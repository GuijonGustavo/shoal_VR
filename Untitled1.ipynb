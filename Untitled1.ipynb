{
 "cells": [
  {
   "cell_type": "code",
   "execution_count": 23,
   "metadata": {},
   "outputs": [
    {
     "name": "stdout",
     "output_type": "stream",
     "text": [
      "0.64\n",
      "0.9216\n",
      "0.28901376\n",
      "0.8219392261226497\n",
      "0.5854205387341977\n",
      "0.9708133262494376\n",
      "0.11333924730376266\n",
      "0.4019738492975167\n",
      "0.9615634951138161\n",
      "0.14783655991327294\n",
      "0.5039236458651288\n",
      "0.9999384200125003\n",
      "0.0002463047816192443\n",
      "0.000984976462295183\n",
      "0.0039360251346556305\n",
      "0.01568213136317996\n",
      "0.06174480847635171\n",
      "0.23172954841028143\n",
      "0.7121238592153939\n",
      "0.8200138734062712\n",
      "0.5903644833100601\n",
      "0.9673370406244235\n",
      "0.1263843618416236\n",
      "0.44164541969403665\n",
      "0.9863789718292595\n",
      "0.0537419830492496\n",
      "0.20341512922873506\n",
      "0.6481496577183683\n",
      "0.9122067156717213\n",
      "0.32034249422053085\n"
     ]
    }
   ],
   "source": [
    "x = 0.2\n",
    "for i in range (30):\n",
    "    x = 4*(x - x*x)\n",
    "    print(x)"
   ]
  },
  {
   "cell_type": "code",
   "execution_count": null,
   "metadata": {},
   "outputs": [],
   "source": []
  }
 ],
 "metadata": {
  "kernelspec": {
   "display_name": "Python 3",
   "language": "python",
   "name": "python3"
  },
  "language_info": {
   "codemirror_mode": {
    "name": "ipython",
    "version": 3
   },
   "file_extension": ".py",
   "mimetype": "text/x-python",
   "name": "python",
   "nbconvert_exporter": "python",
   "pygments_lexer": "ipython3",
   "version": "3.5.3"
  }
 },
 "nbformat": 4,
 "nbformat_minor": 2
}
